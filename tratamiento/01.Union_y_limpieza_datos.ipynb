{
 "cells": [
  {
   "cell_type": "markdown",
   "metadata": {},
   "source": [
    "# Importamos librerias"
   ]
  },
  {
   "cell_type": "code",
   "execution_count": 23,
   "metadata": {},
   "outputs": [],
   "source": [
    "# Tratamiento de datos\n",
    "# -----------------------------------------------------------------------\n",
    "import pandas as pd\n",
    "import numpy as np\n",
    "\n",
    "\n",
    "import sys \n",
    "sys.path.append(\"..\")\n",
    "from src import fx_limpieza as fx_l\n",
    "\n",
    "\n",
    "# Configuración\n",
    "# -----------------------------------------------------------------------\n",
    "pd.set_option('display.max_columns', None) # para poder visualizar todas las columnas de los DataFrames"
   ]
  },
  {
   "cell_type": "markdown",
   "metadata": {},
   "source": [
    "## Importamos todos los CSV y los nombramos con su respectivo año"
   ]
  },
  {
   "cell_type": "code",
   "execution_count": 24,
   "metadata": {},
   "outputs": [],
   "source": [
    "df_13 = pd.read_csv(\"../datos/raw_data/datos-2013.csv\", sep=';', encoding='latin-1')\n",
    "df_14 = pd.read_csv(\"../datos/raw_data/datos-2014.csv\", sep=';', encoding='latin-1')\n",
    "df_15 = pd.read_csv(\"../datos/raw_data/datos-2015.csv\", sep=';', encoding='latin-1')\n",
    "df_16 = pd.read_csv(\"../datos/raw_data/datos-2016.csv\", sep=';', encoding='latin-1')\n",
    "df_17 = pd.read_csv(\"../datos/raw_data/datos-2017.csv\", sep=';', encoding='latin-1')\n",
    "df_18 = pd.read_csv(\"../datos/raw_data/datos-2018.csv\", sep=';', encoding='latin-1')\n",
    "df_19 = pd.read_csv(\"../datos/raw_data/datos-2019.csv\", sep=';', encoding='latin-1')\n",
    "df_20 = pd.read_csv(\"../datos/raw_data/datos-2020.csv\", sep=';', encoding='latin-1')\n",
    "df_21 = pd.read_csv(\"../datos/raw_data/datos-2021.csv\", sep=';', encoding='latin-1')\n",
    "diccionario = pd.read_csv(\"../datos/raw_data/diccionario_datos.csv\", sep=';', encoding='latin-1')"
   ]
  },
  {
   "cell_type": "markdown",
   "metadata": {},
   "source": [
    "## Concatenamos todos los Dataframes"
   ]
  },
  {
   "cell_type": "code",
   "execution_count": 25,
   "metadata": {},
   "outputs": [
    {
     "name": "stdout",
     "output_type": "stream",
     "text": [
      "<class 'pandas.core.frame.DataFrame'>\n",
      "RangeIndex: 1026299 entries, 0 to 1026298\n",
      "Data columns (total 16 columns):\n",
      " #   Column                     Non-Null Count    Dtype \n",
      "---  ------                     --------------    ----- \n",
      " 0   CÓDIGO ÓRGÃO SUPERIOR      1026299 non-null  int64 \n",
      " 1   NOME ÓRGÃO SUPERIOR        1026299 non-null  object\n",
      " 2   CÓDIGO ÓRGÃO               1026299 non-null  int64 \n",
      " 3   NOME ÓRGÃO                 1026299 non-null  object\n",
      " 4   CÓDIGO UNIDADE GESTORA     1026299 non-null  int64 \n",
      " 5   NOME UNIDADE GESTORA       1026299 non-null  object\n",
      " 6   CATEGORIA ECONÔMICA        1026299 non-null  object\n",
      " 7   ORIGEM RECEITA             1026299 non-null  object\n",
      " 8   ESPÉCIE RECEITA            1026299 non-null  object\n",
      " 9   DETALHAMENTO               1026299 non-null  object\n",
      " 10  VALOR PREVISTO ATUALIZADO  1026299 non-null  object\n",
      " 11  VALOR LANÇADO              1026299 non-null  object\n",
      " 12  VALOR REALIZADO            1026299 non-null  object\n",
      " 13  PERCENTUAL REALIZADO       1026299 non-null  object\n",
      " 14  DATA LANÇAMENTO            1025721 non-null  object\n",
      " 15  ANO EXERCÍCIO              1026299 non-null  int64 \n",
      "dtypes: int64(4), object(12)\n",
      "memory usage: 125.3+ MB\n"
     ]
    }
   ],
   "source": [
    "df = pd.concat([df_13, df_14, df_15,df_16, df_17, df_18, df_19, df_20, df_21], axis=0, ignore_index = True)\n",
    "df.info()"
   ]
  },
  {
   "cell_type": "markdown",
   "metadata": {},
   "source": [
    "## Renombramos columnas para reducir barrera de lenguaje"
   ]
  },
  {
   "cell_type": "code",
   "execution_count": 26,
   "metadata": {},
   "outputs": [],
   "source": [
    "df.rename(columns={\n",
    "    \"CÓDIGO ÓRGÃO SUPERIOR\": \"COD_organo_superior\",\n",
    "    \"NOME ÓRGÃO SUPERIOR\": \"NOM_organo_superior\",\n",
    "    \"CÓDIGO ÓRGÃO\": \"COD_organo\",\n",
    "    \"NOME ÓRGÃO\": \"NOM_organo\",\n",
    "    \"CÓDIGO UNIDADE GESTORA\": \"COD_unidad_gestora\",\n",
    "    \"NOME UNIDADE GESTORA\": \"NOM_unidad_gestora\",\n",
    "    \"CATEGORIA ECONÔMICA\": \"categoria_economica\",\n",
    "    \"ORIGEM RECEITA\": \"origen_ingreso\",\n",
    "    \"ESPÉCIE RECEITA\": \"especie_ingreso\",\n",
    "    \"DETALHAMENTO\": \"detalle_adicional \",\n",
    "    \"VALOR PREVISTO ATUALIZADO\": \"valor_previsto_actualizado\",\n",
    "    \"VALOR LANÇADO\": \"valor_lanzado\",\n",
    "    \"VALOR REALIZADO\": \"valor_recaudado\",\n",
    "    \"PERCENTUAL REALIZADO\": \"porcentaje_ejecutado\",\n",
    "    \"DATA LANÇAMENTO\": \"fecha_ejecucion\",\n",
    "    \"ANO EXERCÍCIO\": \"anio_ejecucion\"\n",
    "}, inplace=True)"
   ]
  },
  {
   "cell_type": "code",
   "execution_count": 27,
   "metadata": {},
   "outputs": [
    {
     "name": "stdout",
     "output_type": "stream",
     "text": [
      "<class 'pandas.core.frame.DataFrame'>\n",
      "RangeIndex: 1026299 entries, 0 to 1026298\n",
      "Data columns (total 16 columns):\n",
      " #   Column                      Non-Null Count    Dtype \n",
      "---  ------                      --------------    ----- \n",
      " 0   COD_organo_superior         1026299 non-null  int64 \n",
      " 1   NOM_organo_superior         1026299 non-null  object\n",
      " 2   COD_organo                  1026299 non-null  int64 \n",
      " 3   NOM_organo                  1026299 non-null  object\n",
      " 4   COD_unidad_gestora          1026299 non-null  int64 \n",
      " 5   NOM_unidad_gestora          1026299 non-null  object\n",
      " 6   categoria_economica         1026299 non-null  object\n",
      " 7   origen_ingreso              1026299 non-null  object\n",
      " 8   especie_ingreso             1026299 non-null  object\n",
      " 9   detalle_adicional           1026299 non-null  object\n",
      " 10  valor_previsto_actualizado  1026299 non-null  object\n",
      " 11  valor_lanzado               1026299 non-null  object\n",
      " 12  valor_recaudado             1026299 non-null  object\n",
      " 13  porcentaje_ejecutado        1026299 non-null  object\n",
      " 14  fecha_ejecucion             1025721 non-null  object\n",
      " 15  anio_ejecucion              1026299 non-null  int64 \n",
      "dtypes: int64(4), object(12)\n",
      "memory usage: 125.3+ MB\n"
     ]
    }
   ],
   "source": [
    "df.info()"
   ]
  },
  {
   "cell_type": "markdown",
   "metadata": {},
   "source": [
    "## Pasamos todos los valores que tenemos como objeto a formato numero"
   ]
  },
  {
   "cell_type": "code",
   "execution_count": 28,
   "metadata": {},
   "outputs": [],
   "source": [
    "df[\"valor_previsto_actualizado\"] = df[\"valor_previsto_actualizado\"].str.replace(\",\", \".\").astype(float)"
   ]
  },
  {
   "cell_type": "code",
   "execution_count": 29,
   "metadata": {},
   "outputs": [],
   "source": [
    "df[\"valor_lanzado\"] = df[\"valor_lanzado\"].str.replace(\",\", \".\").astype(float)"
   ]
  },
  {
   "cell_type": "code",
   "execution_count": 30,
   "metadata": {},
   "outputs": [],
   "source": [
    "df[\"valor_recaudado\"] = df[\"valor_recaudado\"].str.replace(\",\", \".\").astype(float)"
   ]
  },
  {
   "cell_type": "code",
   "execution_count": 31,
   "metadata": {},
   "outputs": [],
   "source": [
    "df[\"porcentaje_ejecutado\"] = df[\"porcentaje_ejecutado\"].str.replace(\",\", \".\").astype(float)"
   ]
  },
  {
   "cell_type": "markdown",
   "metadata": {},
   "source": [
    "## Pasamos los valores que tenemos como objeto a formato fecha\n"
   ]
  },
  {
   "cell_type": "code",
   "execution_count": 32,
   "metadata": {},
   "outputs": [],
   "source": [
    "# Convertimos la columna a formato datetime\n",
    "df[\"fecha_ejecucion\"] = pd.to_datetime(df[\"fecha_ejecucion\"], errors=\"coerce\", dayfirst=\"True\")"
   ]
  },
  {
   "cell_type": "markdown",
   "metadata": {},
   "source": [
    "## Chequeamos los valores nulos por columnas"
   ]
  },
  {
   "cell_type": "code",
   "execution_count": 33,
   "metadata": {},
   "outputs": [
    {
     "data": {
      "text/html": [
       "<div>\n",
       "<style scoped>\n",
       "    .dataframe tbody tr th:only-of-type {\n",
       "        vertical-align: middle;\n",
       "    }\n",
       "\n",
       "    .dataframe tbody tr th {\n",
       "        vertical-align: top;\n",
       "    }\n",
       "\n",
       "    .dataframe thead th {\n",
       "        text-align: right;\n",
       "    }\n",
       "</style>\n",
       "<table border=\"1\" class=\"dataframe\">\n",
       "  <thead>\n",
       "    <tr style=\"text-align: right;\">\n",
       "      <th></th>\n",
       "      <th>numero_nulos</th>\n",
       "      <th>porcentaje_nulos</th>\n",
       "      <th>tipo_dato</th>\n",
       "    </tr>\n",
       "  </thead>\n",
       "  <tbody>\n",
       "    <tr>\n",
       "      <th>COD_organo_superior</th>\n",
       "      <td>0</td>\n",
       "      <td>0.00</td>\n",
       "      <td>int64</td>\n",
       "    </tr>\n",
       "    <tr>\n",
       "      <th>NOM_organo_superior</th>\n",
       "      <td>0</td>\n",
       "      <td>0.00</td>\n",
       "      <td>object</td>\n",
       "    </tr>\n",
       "    <tr>\n",
       "      <th>COD_organo</th>\n",
       "      <td>0</td>\n",
       "      <td>0.00</td>\n",
       "      <td>int64</td>\n",
       "    </tr>\n",
       "    <tr>\n",
       "      <th>NOM_organo</th>\n",
       "      <td>0</td>\n",
       "      <td>0.00</td>\n",
       "      <td>object</td>\n",
       "    </tr>\n",
       "    <tr>\n",
       "      <th>COD_unidad_gestora</th>\n",
       "      <td>0</td>\n",
       "      <td>0.00</td>\n",
       "      <td>int64</td>\n",
       "    </tr>\n",
       "    <tr>\n",
       "      <th>NOM_unidad_gestora</th>\n",
       "      <td>0</td>\n",
       "      <td>0.00</td>\n",
       "      <td>object</td>\n",
       "    </tr>\n",
       "    <tr>\n",
       "      <th>categoria_economica</th>\n",
       "      <td>0</td>\n",
       "      <td>0.00</td>\n",
       "      <td>object</td>\n",
       "    </tr>\n",
       "    <tr>\n",
       "      <th>origen_ingreso</th>\n",
       "      <td>0</td>\n",
       "      <td>0.00</td>\n",
       "      <td>object</td>\n",
       "    </tr>\n",
       "    <tr>\n",
       "      <th>especie_ingreso</th>\n",
       "      <td>0</td>\n",
       "      <td>0.00</td>\n",
       "      <td>object</td>\n",
       "    </tr>\n",
       "    <tr>\n",
       "      <th>detalle_adicional</th>\n",
       "      <td>0</td>\n",
       "      <td>0.00</td>\n",
       "      <td>object</td>\n",
       "    </tr>\n",
       "    <tr>\n",
       "      <th>valor_previsto_actualizado</th>\n",
       "      <td>0</td>\n",
       "      <td>0.00</td>\n",
       "      <td>float64</td>\n",
       "    </tr>\n",
       "    <tr>\n",
       "      <th>valor_lanzado</th>\n",
       "      <td>0</td>\n",
       "      <td>0.00</td>\n",
       "      <td>float64</td>\n",
       "    </tr>\n",
       "    <tr>\n",
       "      <th>valor_recaudado</th>\n",
       "      <td>0</td>\n",
       "      <td>0.00</td>\n",
       "      <td>float64</td>\n",
       "    </tr>\n",
       "    <tr>\n",
       "      <th>porcentaje_ejecutado</th>\n",
       "      <td>0</td>\n",
       "      <td>0.00</td>\n",
       "      <td>float64</td>\n",
       "    </tr>\n",
       "    <tr>\n",
       "      <th>fecha_ejecucion</th>\n",
       "      <td>578</td>\n",
       "      <td>0.06</td>\n",
       "      <td>datetime64[ns]</td>\n",
       "    </tr>\n",
       "    <tr>\n",
       "      <th>anio_ejecucion</th>\n",
       "      <td>0</td>\n",
       "      <td>0.00</td>\n",
       "      <td>int64</td>\n",
       "    </tr>\n",
       "  </tbody>\n",
       "</table>\n",
       "</div>"
      ],
      "text/plain": [
       "                            numero_nulos  porcentaje_nulos       tipo_dato\n",
       "COD_organo_superior                    0              0.00           int64\n",
       "NOM_organo_superior                    0              0.00          object\n",
       "COD_organo                             0              0.00           int64\n",
       "NOM_organo                             0              0.00          object\n",
       "COD_unidad_gestora                     0              0.00           int64\n",
       "NOM_unidad_gestora                     0              0.00          object\n",
       "categoria_economica                    0              0.00          object\n",
       "origen_ingreso                         0              0.00          object\n",
       "especie_ingreso                        0              0.00          object\n",
       "detalle_adicional                      0              0.00          object\n",
       "valor_previsto_actualizado             0              0.00         float64\n",
       "valor_lanzado                          0              0.00         float64\n",
       "valor_recaudado                        0              0.00         float64\n",
       "porcentaje_ejecutado                   0              0.00         float64\n",
       "fecha_ejecucion                      578              0.06  datetime64[ns]\n",
       "anio_ejecucion                         0              0.00           int64"
      ]
     },
     "execution_count": 33,
     "metadata": {},
     "output_type": "execute_result"
    }
   ],
   "source": [
    "## Llamamos a la funcion de nuestra biblioteca de funciones.\n",
    "fx_l.valores_nulos(df)"
   ]
  },
  {
   "cell_type": "markdown",
   "metadata": {},
   "source": [
    "#### Solamente tenemos nulos en la columna de fecha de ejecucion. Lo que se puede hacer es reemplazarlos con el año que tenemos en la columna de al lado y ponerle 01-01-año"
   ]
  },
  {
   "cell_type": "code",
   "execution_count": 34,
   "metadata": {},
   "outputs": [],
   "source": [
    "# Reemplaza los nulos y convierte a fecha\n",
    "df[\"fecha_ejecucion\"] = df[\"fecha_ejecucion\"].fillna(\n",
    "    df[\"anio_ejecucion\"].astype(str)+\"-01-01\"  # Supone que el formato es YYYY-MM-DD\n",
    ")\n"
   ]
  },
  {
   "cell_type": "code",
   "execution_count": 35,
   "metadata": {},
   "outputs": [
    {
     "data": {
      "text/html": [
       "<div>\n",
       "<style scoped>\n",
       "    .dataframe tbody tr th:only-of-type {\n",
       "        vertical-align: middle;\n",
       "    }\n",
       "\n",
       "    .dataframe tbody tr th {\n",
       "        vertical-align: top;\n",
       "    }\n",
       "\n",
       "    .dataframe thead th {\n",
       "        text-align: right;\n",
       "    }\n",
       "</style>\n",
       "<table border=\"1\" class=\"dataframe\">\n",
       "  <thead>\n",
       "    <tr style=\"text-align: right;\">\n",
       "      <th></th>\n",
       "      <th>COD_organo_superior</th>\n",
       "      <th>NOM_organo_superior</th>\n",
       "      <th>COD_organo</th>\n",
       "      <th>NOM_organo</th>\n",
       "      <th>COD_unidad_gestora</th>\n",
       "      <th>NOM_unidad_gestora</th>\n",
       "      <th>categoria_economica</th>\n",
       "      <th>origen_ingreso</th>\n",
       "      <th>especie_ingreso</th>\n",
       "      <th>detalle_adicional</th>\n",
       "      <th>valor_previsto_actualizado</th>\n",
       "      <th>valor_lanzado</th>\n",
       "      <th>valor_recaudado</th>\n",
       "      <th>porcentaje_ejecutado</th>\n",
       "      <th>fecha_ejecucion</th>\n",
       "      <th>anio_ejecucion</th>\n",
       "    </tr>\n",
       "  </thead>\n",
       "  <tbody>\n",
       "    <tr>\n",
       "      <th>479617</th>\n",
       "      <td>26000</td>\n",
       "      <td>Ministério da Educação</td>\n",
       "      <td>26270</td>\n",
       "      <td>Fundação Universidade do Amazonas</td>\n",
       "      <td>154039</td>\n",
       "      <td>FUNDACAO UNIVERSIDADE DO AMAZONAS</td>\n",
       "      <td>Receitas Correntes</td>\n",
       "      <td>Receita de Serviços</td>\n",
       "      <td>Serviços Administrativos e Comerciais Gerais</td>\n",
       "      <td>SERV.ADMINISTRAT.E COMERCIAIS GERAIS-PRINC.</td>\n",
       "      <td>0.0</td>\n",
       "      <td>0.0</td>\n",
       "      <td>1302.4</td>\n",
       "      <td>0.0</td>\n",
       "      <td>2018-11-20</td>\n",
       "      <td>2018</td>\n",
       "    </tr>\n",
       "  </tbody>\n",
       "</table>\n",
       "</div>"
      ],
      "text/plain": [
       "        COD_organo_superior     NOM_organo_superior  COD_organo  \\\n",
       "479617                26000  Ministério da Educação       26270   \n",
       "\n",
       "                               NOM_organo  COD_unidad_gestora  \\\n",
       "479617  Fundação Universidade do Amazonas              154039   \n",
       "\n",
       "                       NOM_unidad_gestora categoria_economica  \\\n",
       "479617  FUNDACAO UNIVERSIDADE DO AMAZONAS  Receitas Correntes   \n",
       "\n",
       "             origen_ingreso                               especie_ingreso  \\\n",
       "479617  Receita de Serviços  Serviços Administrativos e Comerciais Gerais   \n",
       "\n",
       "                                 detalle_adicional   \\\n",
       "479617  SERV.ADMINISTRAT.E COMERCIAIS GERAIS-PRINC.   \n",
       "\n",
       "        valor_previsto_actualizado  valor_lanzado  valor_recaudado  \\\n",
       "479617                         0.0            0.0           1302.4   \n",
       "\n",
       "        porcentaje_ejecutado fecha_ejecucion  anio_ejecucion  \n",
       "479617                   0.0      2018-11-20            2018  "
      ]
     },
     "execution_count": 35,
     "metadata": {},
     "output_type": "execute_result"
    }
   ],
   "source": [
    "df.sample()"
   ]
  },
  {
   "cell_type": "code",
   "execution_count": 36,
   "metadata": {},
   "outputs": [
    {
     "name": "stdout",
     "output_type": "stream",
     "text": [
      "Null values per column:\n"
     ]
    },
    {
     "data": {
      "text/plain": [
       "COD_organo_superior           0\n",
       "NOM_organo_superior           0\n",
       "COD_organo                    0\n",
       "NOM_organo                    0\n",
       "COD_unidad_gestora            0\n",
       "NOM_unidad_gestora            0\n",
       "categoria_economica           0\n",
       "origen_ingreso                0\n",
       "especie_ingreso               0\n",
       "detalle_adicional             0\n",
       "valor_previsto_actualizado    0\n",
       "valor_lanzado                 0\n",
       "valor_recaudado               0\n",
       "porcentaje_ejecutado          0\n",
       "fecha_ejecucion               0\n",
       "anio_ejecucion                0\n",
       "dtype: int64"
      ]
     },
     "metadata": {},
     "output_type": "display_data"
    }
   ],
   "source": [
    "#Comprobamos que hayan desaparecido los nulos\n",
    "print(\"Null values per column:\")\n",
    "display(df.isna().sum())"
   ]
  },
  {
   "cell_type": "code",
   "execution_count": 37,
   "metadata": {},
   "outputs": [
    {
     "name": "stdout",
     "output_type": "stream",
     "text": [
      "<class 'pandas.core.frame.DataFrame'>\n",
      "RangeIndex: 1026299 entries, 0 to 1026298\n",
      "Data columns (total 16 columns):\n",
      " #   Column                      Non-Null Count    Dtype         \n",
      "---  ------                      --------------    -----         \n",
      " 0   COD_organo_superior         1026299 non-null  int64         \n",
      " 1   NOM_organo_superior         1026299 non-null  object        \n",
      " 2   COD_organo                  1026299 non-null  int64         \n",
      " 3   NOM_organo                  1026299 non-null  object        \n",
      " 4   COD_unidad_gestora          1026299 non-null  int64         \n",
      " 5   NOM_unidad_gestora          1026299 non-null  object        \n",
      " 6   categoria_economica         1026299 non-null  object        \n",
      " 7   origen_ingreso              1026299 non-null  object        \n",
      " 8   especie_ingreso             1026299 non-null  object        \n",
      " 9   detalle_adicional           1026299 non-null  object        \n",
      " 10  valor_previsto_actualizado  1026299 non-null  float64       \n",
      " 11  valor_lanzado               1026299 non-null  float64       \n",
      " 12  valor_recaudado             1026299 non-null  float64       \n",
      " 13  porcentaje_ejecutado        1026299 non-null  float64       \n",
      " 14  fecha_ejecucion             1026299 non-null  datetime64[ns]\n",
      " 15  anio_ejecucion              1026299 non-null  int64         \n",
      "dtypes: datetime64[ns](1), float64(4), int64(4), object(7)\n",
      "memory usage: 125.3+ MB\n"
     ]
    }
   ],
   "source": [
    "df.info()"
   ]
  },
  {
   "cell_type": "markdown",
   "metadata": {},
   "source": [
    "## Tratamiento de duplicados"
   ]
  },
  {
   "cell_type": "code",
   "execution_count": 38,
   "metadata": {},
   "outputs": [
    {
     "data": {
      "text/html": [
       "<div>\n",
       "<style scoped>\n",
       "    .dataframe tbody tr th:only-of-type {\n",
       "        vertical-align: middle;\n",
       "    }\n",
       "\n",
       "    .dataframe tbody tr th {\n",
       "        vertical-align: top;\n",
       "    }\n",
       "\n",
       "    .dataframe thead th {\n",
       "        text-align: right;\n",
       "    }\n",
       "</style>\n",
       "<table border=\"1\" class=\"dataframe\">\n",
       "  <thead>\n",
       "    <tr style=\"text-align: right;\">\n",
       "      <th></th>\n",
       "      <th>COD_organo_superior</th>\n",
       "      <th>NOM_organo_superior</th>\n",
       "      <th>COD_organo</th>\n",
       "      <th>NOM_organo</th>\n",
       "      <th>COD_unidad_gestora</th>\n",
       "      <th>NOM_unidad_gestora</th>\n",
       "      <th>categoria_economica</th>\n",
       "      <th>origen_ingreso</th>\n",
       "      <th>especie_ingreso</th>\n",
       "      <th>detalle_adicional</th>\n",
       "      <th>valor_previsto_actualizado</th>\n",
       "      <th>valor_lanzado</th>\n",
       "      <th>valor_recaudado</th>\n",
       "      <th>porcentaje_ejecutado</th>\n",
       "      <th>fecha_ejecucion</th>\n",
       "      <th>anio_ejecucion</th>\n",
       "    </tr>\n",
       "  </thead>\n",
       "  <tbody>\n",
       "  </tbody>\n",
       "</table>\n",
       "</div>"
      ],
      "text/plain": [
       "Empty DataFrame\n",
       "Columns: [COD_organo_superior, NOM_organo_superior, COD_organo, NOM_organo, COD_unidad_gestora, NOM_unidad_gestora, categoria_economica, origen_ingreso, especie_ingreso, detalle_adicional , valor_previsto_actualizado, valor_lanzado, valor_recaudado, porcentaje_ejecutado, fecha_ejecucion, anio_ejecucion]\n",
       "Index: []"
      ]
     },
     "execution_count": 38,
     "metadata": {},
     "output_type": "execute_result"
    }
   ],
   "source": [
    "duplicados = df[df.duplicated()]\n",
    "duplicados"
   ]
  },
  {
   "cell_type": "markdown",
   "metadata": {},
   "source": [
    "### No se encontraron valores duplicados en nuestro dataframe"
   ]
  },
  {
   "cell_type": "markdown",
   "metadata": {},
   "source": [
    "# Finalizada la limpieza de datos, exportamos el df limpio"
   ]
  },
  {
   "cell_type": "code",
   "execution_count": 39,
   "metadata": {},
   "outputs": [],
   "source": [
    "df.to_pickle(\"../datos/output_data/df_limpio.pkl\")"
   ]
  }
 ],
 "metadata": {
  "kernelspec": {
   "display_name": "Python 3",
   "language": "python",
   "name": "python3"
  },
  "language_info": {
   "codemirror_mode": {
    "name": "ipython",
    "version": 3
   },
   "file_extension": ".py",
   "mimetype": "text/x-python",
   "name": "python",
   "nbconvert_exporter": "python",
   "pygments_lexer": "ipython3",
   "version": "3.12.4"
  }
 },
 "nbformat": 4,
 "nbformat_minor": 2
}
